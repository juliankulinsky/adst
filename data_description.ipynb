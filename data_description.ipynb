{
 "cells": [
  {
   "cell_type": "markdown",
   "metadata": {},
   "source": [
    "## Data description"
   ]
  },
  {
   "cell_type": "markdown",
   "metadata": {},
   "source": [
    "Our dataset contains information about movies originally collected by IMDb. The IMDb is a US database that contains information and statistics about movies, television series, video production and computer games, as well as people who have worked on them. The database gets its information from various sources such as filmmakers, movie studios, credits or other official sources and has been operated by Amazon since 1998. However, much of the information comes from IMDb users themselves, but is checked for accuracy by IMDb before publication.\n",
    "\n",
    "Our dataset contains a total of 5000 entries for movies that can be found on the IMDb website. For each movie, the dataset contains the following information:\n",
    "\n",
    "| Feature  | Description   |  \n",
    "|---|---|\n",
    "| Link to movie poster  | Poster of the movie in image format  | \n",
    "| Title | Name of the movie  | \n",
    "| Certificate  | Age restriction of the movie  | \n",
    "| Runtime  | Age restriction of the movie  | \n",
    "| Genre  | Film category of the movie to classify similar movies  | \n",
    "| Rating  | User reviews expresses on a scale from 0 to 10 whereas 10 is representing a extraordinary performance  | \n",
    "| About  | Description of the movie and its contents  | \n",
    "| Director  | Director of the movie, responsible for its recording  | \n",
    "| Stars  | Famous celebrities acting as a role in that movie  | \n",
    "| Votes  | Number of votes people have submitted  | \n",
    "| Gross earnings  | Reached revenue with that movie excl. production and taxes  | "
   ]
  },
  {
   "cell_type": "markdown",
   "metadata": {},
   "source": [
    "### Data Import"
   ]
  },
  {
   "cell_type": "markdown",
   "metadata": {},
   "source": [
    "#### Import libraries"
   ]
  },
  {
   "cell_type": "code",
   "execution_count": 2,
   "metadata": {},
   "outputs": [],
   "source": [
    "# Import relevant libraries for data analysis\n",
    "import pandas as pd\n",
    "from pathlib import Path\n",
    "import numpy as np\n",
    "import warnings\n",
    "import altair as alt"
   ]
  },
  {
   "cell_type": "markdown",
   "metadata": {},
   "source": [
    "#### Handling of warnings"
   ]
  },
  {
   "cell_type": "code",
   "execution_count": 3,
   "metadata": {},
   "outputs": [],
   "source": [
    "warnings.simplefilter(action='ignore', category=FutureWarning)"
   ]
  },
  {
   "cell_type": "markdown",
   "metadata": {},
   "source": [
    "#### Import data"
   ]
  },
  {
   "cell_type": "code",
   "execution_count": 5,
   "metadata": {},
   "outputs": [],
   "source": [
    "# Create path\n",
    "PARENT_PATH = str(Path().resolve().parent) + \"/adst/\"\n",
    "PATH = \"data/\"\n",
    "SUBPATH = \"raw/\"\n",
    "FILE = \"movies_netflix\"\n",
    "FORMAT = \".csv\"\n",
    "\n",
    "# Import CSV file with pandas\n",
    "df = pd.read_csv(PARENT_PATH + PATH + SUBPATH + FILE + FORMAT)"
   ]
  },
  {
   "cell_type": "markdown",
   "metadata": {},
   "source": [
    "#### Brief data overview"
   ]
  },
  {
   "cell_type": "code",
   "execution_count": 6,
   "metadata": {},
   "outputs": [
    {
     "data": {
      "text/html": [
       "<div>\n",
       "<style scoped>\n",
       "    .dataframe tbody tr th:only-of-type {\n",
       "        vertical-align: middle;\n",
       "    }\n",
       "\n",
       "    .dataframe tbody tr th {\n",
       "        vertical-align: top;\n",
       "    }\n",
       "\n",
       "    .dataframe thead th {\n",
       "        text-align: right;\n",
       "    }\n",
       "</style>\n",
       "<table border=\"1\" class=\"dataframe\">\n",
       "  <thead>\n",
       "    <tr style=\"text-align: right;\">\n",
       "      <th></th>\n",
       "      <th>poster</th>\n",
       "      <th>title</th>\n",
       "      <th>certificate</th>\n",
       "      <th>runtime</th>\n",
       "      <th>genre</th>\n",
       "      <th>rating</th>\n",
       "      <th>about</th>\n",
       "      <th>director</th>\n",
       "      <th>stars</th>\n",
       "      <th>votes</th>\n",
       "      <th>gross_earn</th>\n",
       "    </tr>\n",
       "  </thead>\n",
       "  <tbody>\n",
       "    <tr>\n",
       "      <th>0</th>\n",
       "      <td>https://m.media-amazon.com/images/S/sash/4Fyxw...</td>\n",
       "      <td>The Shawshank Redemption</td>\n",
       "      <td>15</td>\n",
       "      <td>142 min</td>\n",
       "      <td>Drama</td>\n",
       "      <td>9.3</td>\n",
       "      <td>Two imprisoned men bond over a number of years...</td>\n",
       "      <td>Frank Darabont</td>\n",
       "      <td>('Tim Robbins',), ('Morgan Freeman',), ('Bob G...</td>\n",
       "      <td>26,26,905</td>\n",
       "      <td>$28.34M</td>\n",
       "    </tr>\n",
       "    <tr>\n",
       "      <th>1</th>\n",
       "      <td>https://m.media-amazon.com/images/S/sash/4Fyxw...</td>\n",
       "      <td>The Dark Knight</td>\n",
       "      <td>12A</td>\n",
       "      <td>152 min</td>\n",
       "      <td>Action, Crime, Drama</td>\n",
       "      <td>9.0</td>\n",
       "      <td>When the menace known as the Joker wreaks havo...</td>\n",
       "      <td>Christopher Nolan</td>\n",
       "      <td>('Christian Bale',), ('Heath Ledger',), ('Aaro...</td>\n",
       "      <td>25,98,173</td>\n",
       "      <td>$534.86M</td>\n",
       "    </tr>\n",
       "    <tr>\n",
       "      <th>2</th>\n",
       "      <td>https://m.media-amazon.com/images/S/sash/4Fyxw...</td>\n",
       "      <td>Inception</td>\n",
       "      <td>12A</td>\n",
       "      <td>148 min</td>\n",
       "      <td>Action, Adventure, Sci-Fi</td>\n",
       "      <td>8.8</td>\n",
       "      <td>A thief who steals corporate secrets through t...</td>\n",
       "      <td>Christopher Nolan</td>\n",
       "      <td>('Leonardo DiCaprio',), ('Joseph Gordon-Levitt...</td>\n",
       "      <td>23,04,062</td>\n",
       "      <td>$292.58M</td>\n",
       "    </tr>\n",
       "    <tr>\n",
       "      <th>3</th>\n",
       "      <td>https://m.media-amazon.com/images/S/sash/4Fyxw...</td>\n",
       "      <td>Fight Club</td>\n",
       "      <td>18</td>\n",
       "      <td>139 min</td>\n",
       "      <td>Drama</td>\n",
       "      <td>8.8</td>\n",
       "      <td>An insomniac office worker and a devil-may-car...</td>\n",
       "      <td>David Fincher</td>\n",
       "      <td>('Brad Pitt',), ('Edward Norton',), ('Meat Loa...</td>\n",
       "      <td>20,71,088</td>\n",
       "      <td>$37.03M</td>\n",
       "    </tr>\n",
       "    <tr>\n",
       "      <th>4</th>\n",
       "      <td>https://m.media-amazon.com/images/S/sash/4Fyxw...</td>\n",
       "      <td>Pulp Fiction</td>\n",
       "      <td>18</td>\n",
       "      <td>154 min</td>\n",
       "      <td>Crime, Drama</td>\n",
       "      <td>8.9</td>\n",
       "      <td>The lives of two mob hitmen, a boxer, a gangst...</td>\n",
       "      <td>Quentin Tarantino</td>\n",
       "      <td>('John Travolta',), ('Uma Thurman',), ('Samuel...</td>\n",
       "      <td>20,11,013</td>\n",
       "      <td>$107.93M</td>\n",
       "    </tr>\n",
       "  </tbody>\n",
       "</table>\n",
       "</div>"
      ],
      "text/plain": [
       "                                              poster  \\\n",
       "0  https://m.media-amazon.com/images/S/sash/4Fyxw...   \n",
       "1  https://m.media-amazon.com/images/S/sash/4Fyxw...   \n",
       "2  https://m.media-amazon.com/images/S/sash/4Fyxw...   \n",
       "3  https://m.media-amazon.com/images/S/sash/4Fyxw...   \n",
       "4  https://m.media-amazon.com/images/S/sash/4Fyxw...   \n",
       "\n",
       "                      title certificate  runtime                      genre  \\\n",
       "0  The Shawshank Redemption          15  142 min                      Drama   \n",
       "1           The Dark Knight         12A  152 min       Action, Crime, Drama   \n",
       "2                 Inception         12A  148 min  Action, Adventure, Sci-Fi   \n",
       "3                Fight Club          18  139 min                      Drama   \n",
       "4              Pulp Fiction          18  154 min               Crime, Drama   \n",
       "\n",
       "   rating                                              about  \\\n",
       "0     9.3  Two imprisoned men bond over a number of years...   \n",
       "1     9.0  When the menace known as the Joker wreaks havo...   \n",
       "2     8.8  A thief who steals corporate secrets through t...   \n",
       "3     8.8  An insomniac office worker and a devil-may-car...   \n",
       "4     8.9  The lives of two mob hitmen, a boxer, a gangst...   \n",
       "\n",
       "            director                                              stars  \\\n",
       "0     Frank Darabont  ('Tim Robbins',), ('Morgan Freeman',), ('Bob G...   \n",
       "1  Christopher Nolan  ('Christian Bale',), ('Heath Ledger',), ('Aaro...   \n",
       "2  Christopher Nolan  ('Leonardo DiCaprio',), ('Joseph Gordon-Levitt...   \n",
       "3      David Fincher  ('Brad Pitt',), ('Edward Norton',), ('Meat Loa...   \n",
       "4  Quentin Tarantino  ('John Travolta',), ('Uma Thurman',), ('Samuel...   \n",
       "\n",
       "       votes gross_earn  \n",
       "0  26,26,905    $28.34M  \n",
       "1  25,98,173   $534.86M  \n",
       "2  23,04,062   $292.58M  \n",
       "3  20,71,088    $37.03M  \n",
       "4  20,11,013   $107.93M  "
      ]
     },
     "execution_count": 6,
     "metadata": {},
     "output_type": "execute_result"
    }
   ],
   "source": [
    "# Brief overview of the data\n",
    "df.head()"
   ]
  },
  {
   "cell_type": "markdown",
   "metadata": {},
   "source": [
    "<b>Findings</b>:\n",
    "As can be seen, the values of the feature `votes` are values in an inconsistent data format. For this reason, formatting adjustments must be made, e.g. '2.626.905' instead of 26,26,905. \n",
    "\n",
    "See source: https://www.imdb.com/title/tt0111161/ratings/?ref_=tt_ov_rt "
   ]
  },
  {
   "cell_type": "markdown",
   "metadata": {},
   "source": [
    "### Data Quantity"
   ]
  },
  {
   "cell_type": "markdown",
   "metadata": {},
   "source": [
    "The collected data from the IMDb are in the format of a csv file. <br>\n",
    "The dataset contains 5000 rows and 11 features described in more details above."
   ]
  },
  {
   "cell_type": "code",
   "execution_count": 7,
   "metadata": {},
   "outputs": [
    {
     "name": "stdout",
     "output_type": "stream",
     "text": [
      "<class 'pandas.core.frame.DataFrame'>\n",
      "RangeIndex: 5000 entries, 0 to 4999\n",
      "Data columns (total 11 columns):\n",
      " #   Column       Non-Null Count  Dtype  \n",
      "---  ------       --------------  -----  \n",
      " 0   poster       5000 non-null   object \n",
      " 1   title        5000 non-null   object \n",
      " 2   certificate  5000 non-null   object \n",
      " 3   runtime      5000 non-null   object \n",
      " 4   genre        4970 non-null   object \n",
      " 5   rating       5000 non-null   float64\n",
      " 6   about        4986 non-null   object \n",
      " 7   director     5000 non-null   object \n",
      " 8   stars        5000 non-null   object \n",
      " 9   votes        5000 non-null   object \n",
      " 10  gross_earn   4585 non-null   object \n",
      "dtypes: float64(1), object(10)\n",
      "memory usage: 429.8+ KB\n"
     ]
    }
   ],
   "source": [
    "# Number of rows and columns\n",
    "df.info()"
   ]
  },
  {
   "cell_type": "markdown",
   "metadata": {},
   "source": [
    "### Data Quality"
   ]
  },
  {
   "cell_type": "markdown",
   "metadata": {},
   "source": [
    "#### Data types of each feature"
   ]
  },
  {
   "cell_type": "code",
   "execution_count": 8,
   "metadata": {},
   "outputs": [
    {
     "name": "stdout",
     "output_type": "stream",
     "text": [
      "<class 'pandas.core.frame.DataFrame'>\n",
      "RangeIndex: 5000 entries, 0 to 4999\n",
      "Data columns (total 11 columns):\n",
      " #   Column       Non-Null Count  Dtype  \n",
      "---  ------       --------------  -----  \n",
      " 0   poster       5000 non-null   object \n",
      " 1   title        5000 non-null   object \n",
      " 2   certificate  5000 non-null   object \n",
      " 3   runtime      5000 non-null   object \n",
      " 4   genre        4970 non-null   object \n",
      " 5   rating       5000 non-null   float64\n",
      " 6   about        4986 non-null   object \n",
      " 7   director     5000 non-null   object \n",
      " 8   stars        5000 non-null   object \n",
      " 9   votes        5000 non-null   object \n",
      " 10  gross_earn   4585 non-null   object \n",
      "dtypes: float64(1), object(10)\n",
      "memory usage: 429.8+ KB\n"
     ]
    }
   ],
   "source": [
    "# Show data types of the features\n",
    "df.info()"
   ]
  },
  {
   "cell_type": "code",
   "execution_count": 9,
   "metadata": {},
   "outputs": [
    {
     "data": {
      "text/html": [
       "<div>\n",
       "<style scoped>\n",
       "    .dataframe tbody tr th:only-of-type {\n",
       "        vertical-align: middle;\n",
       "    }\n",
       "\n",
       "    .dataframe tbody tr th {\n",
       "        vertical-align: top;\n",
       "    }\n",
       "\n",
       "    .dataframe thead th {\n",
       "        text-align: right;\n",
       "    }\n",
       "</style>\n",
       "<table border=\"1\" class=\"dataframe\">\n",
       "  <thead>\n",
       "    <tr style=\"text-align: right;\">\n",
       "      <th></th>\n",
       "      <th>rating</th>\n",
       "    </tr>\n",
       "  </thead>\n",
       "  <tbody>\n",
       "    <tr>\n",
       "      <th>count</th>\n",
       "      <td>5000.000000</td>\n",
       "    </tr>\n",
       "    <tr>\n",
       "      <th>mean</th>\n",
       "      <td>6.692300</td>\n",
       "    </tr>\n",
       "    <tr>\n",
       "      <th>std</th>\n",
       "      <td>0.973649</td>\n",
       "    </tr>\n",
       "    <tr>\n",
       "      <th>min</th>\n",
       "      <td>1.500000</td>\n",
       "    </tr>\n",
       "    <tr>\n",
       "      <th>25%</th>\n",
       "      <td>6.100000</td>\n",
       "    </tr>\n",
       "    <tr>\n",
       "      <th>50%</th>\n",
       "      <td>6.800000</td>\n",
       "    </tr>\n",
       "    <tr>\n",
       "      <th>75%</th>\n",
       "      <td>7.400000</td>\n",
       "    </tr>\n",
       "    <tr>\n",
       "      <th>max</th>\n",
       "      <td>9.300000</td>\n",
       "    </tr>\n",
       "  </tbody>\n",
       "</table>\n",
       "</div>"
      ],
      "text/plain": [
       "            rating\n",
       "count  5000.000000\n",
       "mean      6.692300\n",
       "std       0.973649\n",
       "min       1.500000\n",
       "25%       6.100000\n",
       "50%       6.800000\n",
       "75%       7.400000\n",
       "max       9.300000"
      ]
     },
     "execution_count": 9,
     "metadata": {},
     "output_type": "execute_result"
    }
   ],
   "source": [
    "# Desciption of numerical features\n",
    "df.describe()"
   ]
  },
  {
   "cell_type": "markdown",
   "metadata": {},
   "source": [
    "<b>Findings</b>:\n",
    "Trough `.info()` and `.describe()` we can see that there is only one numerical variable (`rating`) so far. All other variables have the data type `object`.\n",
    "\n",
    "This means that we for example cannot determine wheter the lengt of a movie results in a better vote or wether certain genres tend to generate more revenue than others.\n",
    "\n",
    "For this reason some of the variables of the data type `object` have to be converted to numeric data types. These are: `runtime`, `votes` and `gross_earn`."
   ]
  },
  {
   "cell_type": "markdown",
   "metadata": {},
   "source": [
    "#### Anomalies"
   ]
  },
  {
   "cell_type": "code",
   "execution_count": 11,
   "metadata": {},
   "outputs": [
    {
     "data": {
      "text/plain": [
       "poster           0\n",
       "title            0\n",
       "certificate      0\n",
       "runtime          0\n",
       "genre           30\n",
       "rating           0\n",
       "about           14\n",
       "director         0\n",
       "stars            0\n",
       "votes            0\n",
       "gross_earn     415\n",
       "dtype: int64"
      ]
     },
     "execution_count": 11,
     "metadata": {},
     "output_type": "execute_result"
    }
   ],
   "source": [
    "# Check for missing values\n",
    "df.isnull().sum()"
   ]
  },
  {
   "cell_type": "markdown",
   "metadata": {},
   "source": [
    "<b>Findings</b>:\n",
    "Trough `.isnull()` and `.sum()` we can see that the variable `genre`contains 30 missing values, the variable `about` contains 14 missing values and the variable `gross_earn`contains 415 missing values.\n",
    "\n",
    "459 values are therefore missing in the complete dataset.\n",
    "\n",
    "Since it is not reasonable to ignore missing values, there is a need to find ways to handle them efficiently and properly. Depending on the characteristics of the dataset and the task, we can choose to:\n",
    "\n",
    "- Drop missing values\n",
    "- Replace missing values"
   ]
  },
  {
   "cell_type": "code",
   "execution_count": 12,
   "metadata": {},
   "outputs": [
    {
     "data": {
      "text/html": [
       "<div>\n",
       "<style scoped>\n",
       "    .dataframe tbody tr th:only-of-type {\n",
       "        vertical-align: middle;\n",
       "    }\n",
       "\n",
       "    .dataframe tbody tr th {\n",
       "        vertical-align: top;\n",
       "    }\n",
       "\n",
       "    .dataframe thead th {\n",
       "        text-align: right;\n",
       "    }\n",
       "</style>\n",
       "<table border=\"1\" class=\"dataframe\">\n",
       "  <thead>\n",
       "    <tr style=\"text-align: right;\">\n",
       "      <th></th>\n",
       "      <th>poster</th>\n",
       "      <th>title</th>\n",
       "      <th>certificate</th>\n",
       "      <th>runtime</th>\n",
       "      <th>genre</th>\n",
       "      <th>rating</th>\n",
       "      <th>about</th>\n",
       "      <th>director</th>\n",
       "      <th>stars</th>\n",
       "      <th>votes</th>\n",
       "      <th>gross_earn</th>\n",
       "    </tr>\n",
       "  </thead>\n",
       "  <tbody>\n",
       "    <tr>\n",
       "      <th>4995</th>\n",
       "      <td>https://m.media-amazon.com/images/S/sash/4Fyxw...</td>\n",
       "      <td>Seven Brides for Seven Brothers</td>\n",
       "      <td>U</td>\n",
       "      <td>102 min</td>\n",
       "      <td>Comedy, Drama, Musical</td>\n",
       "      <td>7.3</td>\n",
       "      <td>In 1850 Oregon, when a backwoodsman brings a w...</td>\n",
       "      <td>Stanley Donen</td>\n",
       "      <td>('Jane Powell',), ('Howard Keel',), ('Jeff Ric...</td>\n",
       "      <td>25,112</td>\n",
       "      <td>$9.40M</td>\n",
       "    </tr>\n",
       "    <tr>\n",
       "      <th>4996</th>\n",
       "      <td>https://m.media-amazon.com/images/S/sash/4Fyxw...</td>\n",
       "      <td>Playing It Cool</td>\n",
       "      <td>15</td>\n",
       "      <td>94 min</td>\n",
       "      <td>Comedy, Romance</td>\n",
       "      <td>5.9</td>\n",
       "      <td>Unrequited love motivates a guy to write about...</td>\n",
       "      <td>Justin Reardon</td>\n",
       "      <td>('Chris Evans',), ('Michelle Monaghan',), ('To...</td>\n",
       "      <td>28,515</td>\n",
       "      <td>NaN</td>\n",
       "    </tr>\n",
       "    <tr>\n",
       "      <th>4997</th>\n",
       "      <td>https://m.media-amazon.com/images/S/sash/4Fyxw...</td>\n",
       "      <td>A Moment to Remember</td>\n",
       "      <td>144 min</td>\n",
       "      <td>Drama, Romance</td>\n",
       "      <td>NaN</td>\n",
       "      <td>8.1</td>\n",
       "      <td>A young couple's enduring love is tested when ...</td>\n",
       "      <td>John H. Lee</td>\n",
       "      <td>('Jung Woo-sung',), ('Son Ye-jin',), ('Jong-ha...</td>\n",
       "      <td>23,957</td>\n",
       "      <td>NaN</td>\n",
       "    </tr>\n",
       "    <tr>\n",
       "      <th>4998</th>\n",
       "      <td>https://m.media-amazon.com/images/S/sash/4Fyxw...</td>\n",
       "      <td>Hairspray</td>\n",
       "      <td>PG</td>\n",
       "      <td>92 min</td>\n",
       "      <td>Comedy, Drama, Family</td>\n",
       "      <td>7.0</td>\n",
       "      <td>A 'pleasantly plump' teenager teaches 1962 Bal...</td>\n",
       "      <td>John Waters</td>\n",
       "      <td>('Sonny Bono',), ('Ruth Brown',), ('Divine',),...</td>\n",
       "      <td>21,536</td>\n",
       "      <td>$6.67M</td>\n",
       "    </tr>\n",
       "    <tr>\n",
       "      <th>4999</th>\n",
       "      <td>https://m.media-amazon.com/images/S/sash/4Fyxw...</td>\n",
       "      <td>McCabe &amp; Mrs. Miller</td>\n",
       "      <td>X</td>\n",
       "      <td>120 min</td>\n",
       "      <td>Drama, Western</td>\n",
       "      <td>7.6</td>\n",
       "      <td>A gambler and a prostitute become business par...</td>\n",
       "      <td>Robert Altman</td>\n",
       "      <td>('Warren Beatty',), ('Julie Christie',), ('Ren...</td>\n",
       "      <td>25,097</td>\n",
       "      <td>$8.20M</td>\n",
       "    </tr>\n",
       "  </tbody>\n",
       "</table>\n",
       "</div>"
      ],
      "text/plain": [
       "                                                 poster  \\\n",
       "4995  https://m.media-amazon.com/images/S/sash/4Fyxw...   \n",
       "4996  https://m.media-amazon.com/images/S/sash/4Fyxw...   \n",
       "4997  https://m.media-amazon.com/images/S/sash/4Fyxw...   \n",
       "4998  https://m.media-amazon.com/images/S/sash/4Fyxw...   \n",
       "4999  https://m.media-amazon.com/images/S/sash/4Fyxw...   \n",
       "\n",
       "                                title certificate         runtime  \\\n",
       "4995  Seven Brides for Seven Brothers           U         102 min   \n",
       "4996                  Playing It Cool          15          94 min   \n",
       "4997             A Moment to Remember     144 min  Drama, Romance   \n",
       "4998                        Hairspray          PG          92 min   \n",
       "4999             McCabe & Mrs. Miller           X         120 min   \n",
       "\n",
       "                       genre  rating  \\\n",
       "4995  Comedy, Drama, Musical     7.3   \n",
       "4996         Comedy, Romance     5.9   \n",
       "4997                     NaN     8.1   \n",
       "4998   Comedy, Drama, Family     7.0   \n",
       "4999          Drama, Western     7.6   \n",
       "\n",
       "                                                  about        director  \\\n",
       "4995  In 1850 Oregon, when a backwoodsman brings a w...   Stanley Donen   \n",
       "4996  Unrequited love motivates a guy to write about...  Justin Reardon   \n",
       "4997  A young couple's enduring love is tested when ...     John H. Lee   \n",
       "4998  A 'pleasantly plump' teenager teaches 1962 Bal...     John Waters   \n",
       "4999  A gambler and a prostitute become business par...   Robert Altman   \n",
       "\n",
       "                                                  stars   votes gross_earn  \n",
       "4995  ('Jane Powell',), ('Howard Keel',), ('Jeff Ric...  25,112     $9.40M  \n",
       "4996  ('Chris Evans',), ('Michelle Monaghan',), ('To...  28,515        NaN  \n",
       "4997  ('Jung Woo-sung',), ('Son Ye-jin',), ('Jong-ha...  23,957        NaN  \n",
       "4998  ('Sonny Bono',), ('Ruth Brown',), ('Divine',),...  21,536     $6.67M  \n",
       "4999  ('Warren Beatty',), ('Julie Christie',), ('Ren...  25,097     $8.20M  "
      ]
     },
     "execution_count": 12,
     "metadata": {},
     "output_type": "execute_result"
    }
   ],
   "source": [
    "# Check for not uniform values\n",
    "df.tail()"
   ]
  },
  {
   "cell_type": "markdown",
   "metadata": {},
   "source": [
    "<b>Findings</b>:\n",
    "By taking a look at the last rows of the data set we can see, that the variable `certificate` contains values that aren´t uniform. For example row number 4995 contains a letter (U) to specify the age restriction but row number 4996 uses a number (15). Furthermore this column contains values that have noting to do with age restrictions like row number 4997 that contains the `runtime` instead of the age restriction and the `genre` instead of the `runtime`.\n",
    "\n",
    "For this reason for the column `certificate`, a way must be found to make the values consistent. Likewise, the remaining columns must be looked at more closely to identify incorrect values."
   ]
  },
  {
   "cell_type": "markdown",
   "metadata": {},
   "source": [
    "#### Further findings"
   ]
  },
  {
   "cell_type": "markdown",
   "metadata": {},
   "source": [
    "In addition, new columns should be created for the variables `genre` and `stars`, as they contain several persons. This will be important later in the more in-depth evaluation of findings."
   ]
  },
  {
   "cell_type": "markdown",
   "metadata": {},
   "source": []
  }
 ],
 "metadata": {
  "kernelspec": {
   "display_name": "Python 3.9.13 ('dst')",
   "language": "python",
   "name": "python3"
  },
  "language_info": {
   "codemirror_mode": {
    "name": "ipython",
    "version": 3
   },
   "file_extension": ".py",
   "mimetype": "text/x-python",
   "name": "python",
   "nbconvert_exporter": "python",
   "pygments_lexer": "ipython3",
   "version": "3.9.13"
  },
  "orig_nbformat": 4,
  "vscode": {
   "interpreter": {
    "hash": "51e0d1c45a489e24378964be202a2850db1ece125227bf31706160d66da3d2f0"
   }
  }
 },
 "nbformat": 4,
 "nbformat_minor": 2
}
