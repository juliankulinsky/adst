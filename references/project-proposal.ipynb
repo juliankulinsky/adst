{
 "cells": [
  {
   "cell_type": "markdown",
   "metadata": {},
   "source": [
    "# Project proposal\n",
    "\n",
    "---\n",
    "\n",
    "Group name: Lena Binder, Julian Kulinsky, Sven Ritzmann (Gruppe C)\n",
    "\n",
    "---\n"
   ]
  },
  {
   "cell_type": "markdown",
   "metadata": {},
   "source": [
    "## Introduction\n",
    "\n",
    "The introduction section includes\n",
    "\n",
    "-   an introduction to the subject matter you're investigating\n",
    "-   the motivation for your question (citing any relevant literature/study results ...)\n",
    "-   the general (research) question you wish to explore\n",
    "-   your hypotheses regarding the (research) question of interest."
   ]
  },
  {
   "cell_type": "markdown",
   "metadata": {},
   "source": [
    "\n",
    "## Data description\n",
    "\n",
    "In this section, you will describe the data set you wish to explore. This includes\n",
    "\n",
    "-   description of the observations in the data set,\n",
    "-   description of how the data was originally collected (not how you found the data but how the original curator of the data collected it)."
   ]
  },
  {
   "cell_type": "markdown",
   "metadata": {},
   "source": [
    "### Import libraries"
   ]
  },
  {
   "cell_type": "code",
   "execution_count": null,
   "metadata": {},
   "outputs": [],
   "source": [
    "# import libraries\n",
    "import pandas as pd\n",
    "from pathlib import Path"
   ]
  },
  {
   "cell_type": "markdown",
   "metadata": {},
   "source": [
    "### Import data"
   ]
  },
  {
   "cell_type": "code",
   "execution_count": 7,
   "metadata": {},
   "outputs": [
    {
     "data": {
      "text/html": [
       "<div>\n",
       "<style scoped>\n",
       "    .dataframe tbody tr th:only-of-type {\n",
       "        vertical-align: middle;\n",
       "    }\n",
       "\n",
       "    .dataframe tbody tr th {\n",
       "        vertical-align: top;\n",
       "    }\n",
       "\n",
       "    .dataframe thead th {\n",
       "        text-align: right;\n",
       "    }\n",
       "</style>\n",
       "<table border=\"1\" class=\"dataframe\">\n",
       "  <thead>\n",
       "    <tr style=\"text-align: right;\">\n",
       "      <th></th>\n",
       "      <th>poster</th>\n",
       "      <th>title</th>\n",
       "      <th>certificate</th>\n",
       "      <th>runtime</th>\n",
       "      <th>genre</th>\n",
       "      <th>rating</th>\n",
       "      <th>about</th>\n",
       "      <th>director</th>\n",
       "      <th>stars</th>\n",
       "      <th>votes</th>\n",
       "      <th>gross_earn</th>\n",
       "    </tr>\n",
       "  </thead>\n",
       "  <tbody>\n",
       "    <tr>\n",
       "      <th>0</th>\n",
       "      <td>https://m.media-amazon.com/images/S/sash/4Fyxw...</td>\n",
       "      <td>The Shawshank Redemption</td>\n",
       "      <td>15</td>\n",
       "      <td>142 min</td>\n",
       "      <td>Drama</td>\n",
       "      <td>9.3</td>\n",
       "      <td>Two imprisoned men bond over a number of years...</td>\n",
       "      <td>Frank Darabont</td>\n",
       "      <td>('Tim Robbins',), ('Morgan Freeman',), ('Bob G...</td>\n",
       "      <td>26,26,905</td>\n",
       "      <td>$28.34M</td>\n",
       "    </tr>\n",
       "    <tr>\n",
       "      <th>1</th>\n",
       "      <td>https://m.media-amazon.com/images/S/sash/4Fyxw...</td>\n",
       "      <td>The Dark Knight</td>\n",
       "      <td>12A</td>\n",
       "      <td>152 min</td>\n",
       "      <td>Action, Crime, Drama</td>\n",
       "      <td>9.0</td>\n",
       "      <td>When the menace known as the Joker wreaks havo...</td>\n",
       "      <td>Christopher Nolan</td>\n",
       "      <td>('Christian Bale',), ('Heath Ledger',), ('Aaro...</td>\n",
       "      <td>25,98,173</td>\n",
       "      <td>$534.86M</td>\n",
       "    </tr>\n",
       "    <tr>\n",
       "      <th>2</th>\n",
       "      <td>https://m.media-amazon.com/images/S/sash/4Fyxw...</td>\n",
       "      <td>Inception</td>\n",
       "      <td>12A</td>\n",
       "      <td>148 min</td>\n",
       "      <td>Action, Adventure, Sci-Fi</td>\n",
       "      <td>8.8</td>\n",
       "      <td>A thief who steals corporate secrets through t...</td>\n",
       "      <td>Christopher Nolan</td>\n",
       "      <td>('Leonardo DiCaprio',), ('Joseph Gordon-Levitt...</td>\n",
       "      <td>23,04,062</td>\n",
       "      <td>$292.58M</td>\n",
       "    </tr>\n",
       "    <tr>\n",
       "      <th>3</th>\n",
       "      <td>https://m.media-amazon.com/images/S/sash/4Fyxw...</td>\n",
       "      <td>Fight Club</td>\n",
       "      <td>18</td>\n",
       "      <td>139 min</td>\n",
       "      <td>Drama</td>\n",
       "      <td>8.8</td>\n",
       "      <td>An insomniac office worker and a devil-may-car...</td>\n",
       "      <td>David Fincher</td>\n",
       "      <td>('Brad Pitt',), ('Edward Norton',), ('Meat Loa...</td>\n",
       "      <td>20,71,088</td>\n",
       "      <td>$37.03M</td>\n",
       "    </tr>\n",
       "    <tr>\n",
       "      <th>4</th>\n",
       "      <td>https://m.media-amazon.com/images/S/sash/4Fyxw...</td>\n",
       "      <td>Pulp Fiction</td>\n",
       "      <td>18</td>\n",
       "      <td>154 min</td>\n",
       "      <td>Crime, Drama</td>\n",
       "      <td>8.9</td>\n",
       "      <td>The lives of two mob hitmen, a boxer, a gangst...</td>\n",
       "      <td>Quentin Tarantino</td>\n",
       "      <td>('John Travolta',), ('Uma Thurman',), ('Samuel...</td>\n",
       "      <td>20,11,013</td>\n",
       "      <td>$107.93M</td>\n",
       "    </tr>\n",
       "  </tbody>\n",
       "</table>\n",
       "</div>"
      ],
      "text/plain": [
       "                                              poster  \\\n",
       "0  https://m.media-amazon.com/images/S/sash/4Fyxw...   \n",
       "1  https://m.media-amazon.com/images/S/sash/4Fyxw...   \n",
       "2  https://m.media-amazon.com/images/S/sash/4Fyxw...   \n",
       "3  https://m.media-amazon.com/images/S/sash/4Fyxw...   \n",
       "4  https://m.media-amazon.com/images/S/sash/4Fyxw...   \n",
       "\n",
       "                      title certificate  runtime                      genre  \\\n",
       "0  The Shawshank Redemption          15  142 min                      Drama   \n",
       "1           The Dark Knight         12A  152 min       Action, Crime, Drama   \n",
       "2                 Inception         12A  148 min  Action, Adventure, Sci-Fi   \n",
       "3                Fight Club          18  139 min                      Drama   \n",
       "4              Pulp Fiction          18  154 min               Crime, Drama   \n",
       "\n",
       "   rating                                              about  \\\n",
       "0     9.3  Two imprisoned men bond over a number of years...   \n",
       "1     9.0  When the menace known as the Joker wreaks havo...   \n",
       "2     8.8  A thief who steals corporate secrets through t...   \n",
       "3     8.8  An insomniac office worker and a devil-may-car...   \n",
       "4     8.9  The lives of two mob hitmen, a boxer, a gangst...   \n",
       "\n",
       "            director                                              stars  \\\n",
       "0     Frank Darabont  ('Tim Robbins',), ('Morgan Freeman',), ('Bob G...   \n",
       "1  Christopher Nolan  ('Christian Bale',), ('Heath Ledger',), ('Aaro...   \n",
       "2  Christopher Nolan  ('Leonardo DiCaprio',), ('Joseph Gordon-Levitt...   \n",
       "3      David Fincher  ('Brad Pitt',), ('Edward Norton',), ('Meat Loa...   \n",
       "4  Quentin Tarantino  ('John Travolta',), ('Uma Thurman',), ('Samuel...   \n",
       "\n",
       "       votes gross_earn  \n",
       "0  26,26,905    $28.34M  \n",
       "1  25,98,173   $534.86M  \n",
       "2  23,04,062   $292.58M  \n",
       "3  20,71,088    $37.03M  \n",
       "4  20,11,013   $107.93M  "
      ]
     },
     "execution_count": 7,
     "metadata": {},
     "output_type": "execute_result"
    }
   ],
   "source": [
    "# Create path\n",
    "PARENT_PATH = str(Path().resolve().parent) + \"/\"\n",
    "PATH = \"data/\"\n",
    "SUBPATH = \"raw/\"\n",
    "FILE = \"movies_netflix\"\n",
    "FORMAT = \".csv\"\n",
    "\n",
    "# read csv data file\n",
    "df = pd.read_csv(PARENT_PATH + PATH + SUBPATH + FILE + FORMAT)\n",
    "\n",
    "# Brief data overview\n",
    "df.head()"
   ]
  },
  {
   "cell_type": "markdown",
   "metadata": {},
   "source": [
    "### Viewing Data"
   ]
  },
  {
   "cell_type": "markdown",
   "metadata": {},
   "source": [
    "#### Overview"
   ]
  },
  {
   "cell_type": "code",
   "execution_count": 9,
   "metadata": {},
   "outputs": [
    {
     "name": "stdout",
     "output_type": "stream",
     "text": [
      "<class 'pandas.core.frame.DataFrame'>\n",
      "RangeIndex: 5000 entries, 0 to 4999\n",
      "Data columns (total 11 columns):\n",
      " #   Column       Non-Null Count  Dtype  \n",
      "---  ------       --------------  -----  \n",
      " 0   poster       5000 non-null   object \n",
      " 1   title        5000 non-null   object \n",
      " 2   certificate  5000 non-null   object \n",
      " 3   runtime      5000 non-null   object \n",
      " 4   genre        4970 non-null   object \n",
      " 5   rating       5000 non-null   float64\n",
      " 6   about        4986 non-null   object \n",
      " 7   director     5000 non-null   object \n",
      " 8   stars        5000 non-null   object \n",
      " 9   votes        5000 non-null   object \n",
      " 10  gross_earn   4585 non-null   object \n",
      "dtypes: float64(1), object(10)\n",
      "memory usage: 429.8+ KB\n"
     ]
    }
   ],
   "source": [
    "# Overview on dtypes of each feature\n",
    "df.info()"
   ]
  },
  {
   "cell_type": "markdown",
   "metadata": {},
   "source": [
    "#### Description of the observations in the data set"
   ]
  },
  {
   "cell_type": "markdown",
   "metadata": {},
   "source": [
    "Erkenntnis:\n",
    "\n",
    "Wie man erkennen kann, werden alle Variablen mit Ausnahme von 'rating' als 'object' gekennzeichnet. \n",
    "\n",
    "'rating' wird dabei als 'float64' angezeigt. \n",
    "\n",
    "Dabei handelt es sich bei den Daten **runtime** (abzüglich 'min'), **rating**, **votes** und **gross_earn** um numerische Daten. \n",
    "\n",
    "Welche dementsprechend in den richtigen Datenformat Transformiert werden müssen.\n",
    "\n",
    "Es sollten zusätzliche Spalten für die Variablen **Genre** und **Stars** angelegt werden, weil sie mehrere Personen beinhalten, dies hilft bei der Auswertung von Erkenntnissen"
   ]
  },
  {
   "cell_type": "markdown",
   "metadata": {},
   "source": [
    "Variables:\n",
    "\n",
    "- poster - link zu poster - löschen\n",
    "- titel - Film titel - relevant für den kauf von den Lizenzen\n",
    "- certificate - Altersfreigabe - \n",
    "- runtime - Spielzeit - Besseres Rating wenn mehr / weniger spielzeit\n",
    "- genre - Genres\n",
    "- rating - Bewertung\n",
    "- about - Sentiment analysis?\n",
    "- director - Regie\n",
    "- stars - Darsteller\n",
    "- votes - Anzahl der Bewertungen\n",
    "- gross_earn - Brutto_verdienst\n"
   ]
  },
  {
   "cell_type": "markdown",
   "metadata": {},
   "source": [
    "#### Conclusion"
   ]
  },
  {
   "cell_type": "markdown",
   "metadata": {},
   "source": [
    "- The DataSet of the movies misses the **year** where the movies where published."
   ]
  },
  {
   "cell_type": "markdown",
   "metadata": {},
   "source": [
    "#### Original collected DataSet"
   ]
  },
  {
   "cell_type": "markdown",
   "metadata": {},
   "source": [
    "Webscraped from IMDB in 2022"
   ]
  },
  {
   "cell_type": "markdown",
   "metadata": {},
   "source": [
    "## Analysis approach\n",
    "\n",
    "In this section, you will provide a brief overview of your analysis approach. This includes:\n",
    "\n",
    "-   Description of the relevant variable.\n",
    "-   Exploratory data analysis and summary statistics for the relevant variables.\n",
    "-   The visualization types (what kind of visualizations you will you use)"
   ]
  },
  {
   "cell_type": "markdown",
   "metadata": {},
   "source": [
    "### Relevant Variables"
   ]
  },
  {
   "cell_type": "code",
   "execution_count": null,
   "metadata": {},
   "outputs": [],
   "source": [
    "# Description (Why are they relevant variables)"
   ]
  },
  {
   "cell_type": "code",
   "execution_count": null,
   "metadata": {},
   "outputs": [],
   "source": [
    "# Drop useless variables (Tell why)"
   ]
  },
  {
   "cell_type": "markdown",
   "metadata": {},
   "source": [
    "### Exploratory data analysis and summary statistics"
   ]
  },
  {
   "cell_type": "markdown",
   "metadata": {},
   "source": [
    "#### Transform data"
   ]
  },
  {
   "cell_type": "markdown",
   "metadata": {},
   "source": [
    "This step is important for the Exploratory data analysis"
   ]
  },
  {
   "cell_type": "code",
   "execution_count": null,
   "metadata": {},
   "outputs": [],
   "source": [
    "# Convert runtime, rating, votes and gross_earn into numerical dtypes"
   ]
  },
  {
   "cell_type": "code",
   "execution_count": null,
   "metadata": {},
   "outputs": [],
   "source": [
    "# Split Genre and Stars in their own Variables"
   ]
  },
  {
   "cell_type": "markdown",
   "metadata": {},
   "source": [
    "#### Identify outliers, nan-values, human-errors"
   ]
  },
  {
   "cell_type": "code",
   "execution_count": null,
   "metadata": {},
   "outputs": [],
   "source": [
    "# outliers\n",
    "# nan-values\n",
    "# human-errors (e.g. runtime of the movie [there are Genres inside])"
   ]
  },
  {
   "cell_type": "markdown",
   "metadata": {},
   "source": [
    "#### Relationship between variables"
   ]
  },
  {
   "cell_type": "markdown",
   "metadata": {},
   "source": [
    "e.g. Relationship Matrix"
   ]
  },
  {
   "cell_type": "markdown",
   "metadata": {},
   "source": [
    "#### Visualization Types"
   ]
  },
  {
   "cell_type": "markdown",
   "metadata": {},
   "source": [
    "https://www.data-to-viz.com/"
   ]
  },
  {
   "cell_type": "markdown",
   "metadata": {},
   "source": [
    "## Data dictionary\n",
    "\n",
    "*Create a data dictionary for all the variables in your data set. You may fill out the data description table or create your own table with Pandas:*\n",
    "\n",
    "<br>\n",
    "\n",
    "\n",
    "| Name  |   Description\t   \t| Type   \t|  Format \t|\n",
    "|---\t|---\t          \t|---\t    |---\t|\n",
    "|   \t|   \t            |   \t    |   \t|\n",
    "|   \t|   \t       \t    |   \t    |   \t|\n",
    "|   \t|   \t       \t    |   \t    |   \t|\n",
    "\n",
    "\n",
    "<br>\n",
    "\n",
    "\n",
    "- `Type`: nominal, ordinal or numeric\n",
    "\n",
    "- `Format`: int, float, string, category, date or object"
   ]
  }
 ],
 "metadata": {
  "kernelspec": {
   "display_name": "Python 3.10.0 64-bit",
   "language": "python",
   "name": "python3"
  },
  "language_info": {
   "codemirror_mode": {
    "name": "ipython",
    "version": 3
   },
   "file_extension": ".py",
   "mimetype": "text/x-python",
   "name": "python",
   "nbconvert_exporter": "python",
   "pygments_lexer": "ipython3",
   "version": "3.10.0"
  },
  "orig_nbformat": 4,
  "vscode": {
   "interpreter": {
    "hash": "ac5e9af40c2048901fb5e070f7bbe2ca12417b0669992742e66f016e0e17b88e"
   }
  }
 },
 "nbformat": 4,
 "nbformat_minor": 2
}
