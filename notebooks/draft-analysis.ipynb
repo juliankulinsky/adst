{
 "cells": [
  {
   "cell_type": "markdown",
   "metadata": {},
   "source": [
    "# Draft analysis \n",
    "\n",
    "---\n",
    "\n",
    "Group name: Lena Binder, Sven Ritzmann, Julian Kulinsky (Group C)\n",
    "\n",
    "---\n"
   ]
  },
  {
   "cell_type": "markdown",
   "metadata": {},
   "source": [
    "## 1.Introduction\n",
    "\n",
    "### 1.1 Future licenses for Netflix to gain competitive advantage\n",
    "\n",
    "Highly impacted by COVID, direct-to-customer entertainment services drastically shaped the movie and entertainment industry. Disney, Netflix, Amazon, just to name a few, are highly invested in expanding their movies and series selection to compete for the trust and loyalty of customers. Therefore, they not only increased their selection in buying licenses for existing movies and shows, they also spend much money on producing movies and series on their own to provide exclusive content on their corresponding platform. To sum it up, the importance of owning and retaining such intellectual property in perpetuity has also increased among brands as a way to attract and retain customers (Harvard, 2021).\n",
    "With our analytical approach, we want to investigate which movies 1) are likely to provide the best customer experience as possible, 2) have the highest potential of creating a high revenue flow and 3) should be promoted and advertised more to attract customers (if already existing).\n",
    "\n",
    "### 1.2 Motivation\n",
    "\n",
    "As mentioned in the introduction, Disney, Netflix, Amazon and co. are investing heavily in expanding their movie and series offerings to compete for customer trust and loyalty. Literature suggests that content acquisition and retention are critical to maintaining customer loyalty and audience churn towards video-on-demand. Accordingly, this is a timely topic and one that is important to the film and entertainment industry, which is why we chose it for our use case. We want to find out which movies are best suited to retain customer loyalty or attract new customers.\n",
    "\n",
    "<b>Literature</b>:\n",
    "\n",
    "1. Havard, Cody T. (2021) \"Disney, Netflix, and Amazon Oh My! An Analysis of Streaming Brand Competition and the Impact on the Future of Consumer Entertainment,\" Findings in Sport, Hospitality, Entertainment, and Event Management: Vol. 1, Article 7. Available at: https://digitalcommons.memphis.edu/finsheem/vol1/iss1/7\n",
    "\n",
    "    This analysis paper discusses the impact of brands such as Disney, Netflix, Amazon, and others on the growing streaming service space. The paper mentions that the importance of owning and retaining intellectual property in perpetuity has also increased among brands as a way to attract and retain customers.\n",
    "\n",
    "2. Mazzolini, P. (2016). Netflix: Financial Position Analysis and Evolution in the Market for Online Streaming Services. In Google Scholar. Libera Università Internazionale degli Studi Sociali. http://tesi.luiss.it/18543/1/174501_MAZZOLINI_PIERFRANCESCO.pdf\n",
    "\n",
    "    The content of the thesis is to examine the progress that the online television industry has made in recent years from a business and financial perspective. The focus here is particularly on the streaming platform Netflix. It is concluded that content acquisition and retention is critical to maintaining customer loyalty.\n",
    "\n",
    "\n",
    "3. Hidalgo-Marí, T., Segarra-Saavedra, J. & Palomares-Sánchez, P. (2021). In-depth study of Netflix’s original content of fictional series. Forms, styles and trends in the new streaming scene. Communication & Society, 34(3), 1-13. \n",
    "\n",
    "    This article presents an analysis of the original content of fictional series produced by Netflix. Among other things, it is concluded that the acquisition of licenses and rights to broadcast other content continues to be a decisive factor, even if the data of recent years show a certain decline. Nevertheless, this strategic resource guarantees the superiority of Netflix and favors the migration of the audience towards VOD.\n",
    "\n",
    "\n",
    "### 1.3 Research question: Which films, stars and genres should Netflix invest in to maintain and expand its market advantage?\n",
    "\n",
    "These include 1) licences for films that Netflix does not yet have in its portfolio and 2) obtaining existing licences as well as promoting and advertising the movies stronger.\n",
    "\n",
    "### 1.4 Hypotheses\n",
    "\n",
    "1. Certain movie genres have an impact on customer rating.\n",
    "\n",
    "2. Certain movie genres tend to generate more revenue than others.\n",
    "\n",
    "3. There is a negative correlation between runtime and rating.\n",
    "\n",
    "4. The certificate has an impact on the revenue. \n",
    "\n",
    "5. The certificate has an impact on the rating. \n"
   ]
  },
  {
   "cell_type": "markdown",
   "metadata": {},
   "source": [
    "## Setup"
   ]
  },
  {
   "cell_type": "code",
   "execution_count": null,
   "metadata": {},
   "outputs": [],
   "source": []
  },
  {
   "cell_type": "markdown",
   "metadata": {},
   "source": [
    "## Data"
   ]
  },
  {
   "cell_type": "markdown",
   "metadata": {},
   "source": [
    "## Import data"
   ]
  },
  {
   "cell_type": "code",
   "execution_count": null,
   "metadata": {},
   "outputs": [],
   "source": []
  },
  {
   "cell_type": "markdown",
   "metadata": {},
   "source": [
    "### Data structure"
   ]
  },
  {
   "cell_type": "code",
   "execution_count": null,
   "metadata": {},
   "outputs": [],
   "source": []
  },
  {
   "cell_type": "markdown",
   "metadata": {},
   "source": [
    "### Data corrections"
   ]
  },
  {
   "cell_type": "code",
   "execution_count": null,
   "metadata": {},
   "outputs": [],
   "source": []
  },
  {
   "cell_type": "markdown",
   "metadata": {},
   "source": [
    "## Analysis"
   ]
  },
  {
   "cell_type": "markdown",
   "metadata": {},
   "source": [
    "### Descriptive statistics"
   ]
  },
  {
   "cell_type": "code",
   "execution_count": null,
   "metadata": {},
   "outputs": [],
   "source": []
  },
  {
   "cell_type": "markdown",
   "metadata": {},
   "source": [
    "### Exploratory data analysis"
   ]
  },
  {
   "cell_type": "code",
   "execution_count": null,
   "metadata": {},
   "outputs": [],
   "source": []
  },
  {
   "cell_type": "markdown",
   "metadata": {},
   "source": [
    "## Visualizations"
   ]
  },
  {
   "cell_type": "markdown",
   "metadata": {},
   "source": [
    "### Visualization ideas"
   ]
  },
  {
   "cell_type": "code",
   "execution_count": null,
   "metadata": {},
   "outputs": [],
   "source": []
  },
  {
   "cell_type": "markdown",
   "metadata": {},
   "source": [
    "### Save Visualizations\n"
   ]
  },
  {
   "cell_type": "code",
   "execution_count": null,
   "metadata": {},
   "outputs": [],
   "source": []
  },
  {
   "cell_type": "markdown",
   "metadata": {},
   "source": [
    "\n",
    "Save your draft visualizations in the folder `reports/visualizations/`. Use a meaningful name (always include the word `draft` and a `timestamp`in your filename)."
   ]
  },
  {
   "cell_type": "code",
   "execution_count": null,
   "metadata": {},
   "outputs": [],
   "source": []
  },
  {
   "cell_type": "markdown",
   "metadata": {},
   "source": [
    "## Conclusion and recommended action"
   ]
  },
  {
   "cell_type": "markdown",
   "metadata": {},
   "source": []
  }
 ],
 "metadata": {
  "kernelspec": {
   "display_name": "Python 3.9.0 64-bit",
   "language": "python",
   "name": "python3"
  },
  "language_info": {
   "codemirror_mode": {
    "name": "ipython",
    "version": 3
   },
   "file_extension": ".py",
   "mimetype": "text/x-python",
   "name": "python",
   "nbconvert_exporter": "python",
   "pygments_lexer": "ipython3",
   "version": "3.9.0"
  },
  "orig_nbformat": 4,
  "vscode": {
   "interpreter": {
    "hash": "aee8b7b246df8f9039afb4144a1f6fd8d2ca17a180786b69acc140d282b71a49"
   }
  }
 },
 "nbformat": 4,
 "nbformat_minor": 2
}
